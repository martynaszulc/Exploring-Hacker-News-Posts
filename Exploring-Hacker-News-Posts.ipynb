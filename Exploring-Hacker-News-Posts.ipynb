{
  "nbformat": 4,
  "nbformat_minor": 0,
  "metadata": {
    "colab": {
      "name": "Kopia notatnika Martyna Szulc.ipynb",
      "provenance": [],
      "toc_visible": true
    },
    "kernelspec": {
      "name": "python3",
      "display_name": "Python 3"
    },
    "language_info": {
      "name": "python"
    }
  },
  "cells": [
    {
      "cell_type": "markdown",
      "metadata": {
        "id": "V3o-hALEVeZH"
      },
      "source": [
        "# Guided Project: Exploring Hacker News Posts"
      ]
    },
    {
      "cell_type": "markdown",
      "metadata": {
        "id": "M8BGVoiiaNhx"
      },
      "source": [
        "Wczytujemy dane i rozdzielamy zbiór na nagłówek i dane. Sprawdzamy 5 pierwszych kolumn."
      ]
    },
    {
      "cell_type": "code",
      "source": [
        "url = 'http://bioinf-mw.bihz.upwr.edu.pl/resources/dataquest/hacker_news.csv'\n",
        "hn = from_csv_url_to_list_of_lists_of_strings(url)"
      ],
      "metadata": {
        "colab": {
          "base_uri": "https://localhost:8080/"
        },
        "id": "B-oBE-o3SetV",
        "outputId": "10f6e7ef-baa5-4ce5-fb5c-834b2ea6e25d"
      },
      "execution_count": null,
      "outputs": [
        {
          "output_type": "stream",
          "name": "stdout",
          "text": [
            "The empty last line was removed while processing http://bioinf-mw.bihz.upwr.edu.pl/resources/dataquest/hacker_news.csv.\n"
          ]
        }
      ]
    },
    {
      "cell_type": "code",
      "metadata": {
        "id": "qjcTgO48oomK"
      },
      "source": [
        "headers=hn[0]\n",
        "hn=hn[1:]"
      ],
      "execution_count": null,
      "outputs": []
    },
    {
      "cell_type": "code",
      "metadata": {
        "id": "CzwhnSESpG07",
        "colab": {
          "base_uri": "https://localhost:8080/"
        },
        "outputId": "21d422cd-5472-4513-d027-d5d1114728b6"
      },
      "source": [
        "print(headers)"
      ],
      "execution_count": null,
      "outputs": [
        {
          "output_type": "stream",
          "name": "stdout",
          "text": [
            "['id', 'title', 'url', 'num_points', 'num_comments', 'author', 'created_at']\n"
          ]
        }
      ]
    },
    {
      "cell_type": "code",
      "metadata": {
        "id": "QNjxJE3Ko5m9",
        "colab": {
          "base_uri": "https://localhost:8080/"
        },
        "outputId": "2aae6950-aaa8-494e-80fe-c31b46edeef8"
      },
      "source": [
        "print(hn[:5])"
      ],
      "execution_count": null,
      "outputs": [
        {
          "output_type": "stream",
          "name": "stdout",
          "text": [
            "[['12224879', 'Interactive Dynamic Video', 'http://www.interactivedynamicvideo.com/', '386', '52', 'ne0phyte', '8/4/2016 11:52'], ['10975351', 'How to Use Open Source and Shut the Fuck Up at the Same Time', 'http://hueniverse.com/2016/01/26/how-to-use-open-source-and-shut-the-fuck-up-at-the-same-time/', '39', '10', 'josep2', '1/26/2016 19:30'], ['11964716', \"Florida DJs May Face Felony for April Fools' Water Joke\", 'http://www.thewire.com/entertainment/2013/04/florida-djs-april-fools-water-joke/63798/', '2', '1', 'vezycash', '6/23/2016 22:20'], ['11919867', 'Technology ventures: From Idea to Enterprise', 'https://www.amazon.com/Technology-Ventures-Enterprise-Thomas-Byers/dp/0073523429', '3', '1', 'hswarna', '6/17/2016 0:01'], ['10301696', 'Note by Note: The Making of Steinway L1037 (2007)', 'http://www.nytimes.com/2007/11/07/movies/07stein.html?_r=0', '8', '2', 'walterbell', '9/30/2015 4:12']]\n"
          ]
        }
      ]
    },
    {
      "cell_type": "markdown",
      "metadata": {
        "id": "Ys70v3cnsqpt"
      },
      "source": [
        "Tworzymy trzy puste listy ask_posts, show_posts i other_posts. Chcemy posegregować wpisy w zależności od tytułu. Sprawdzając w pętli każdy rekord, zapisujemy je do odpowiedniej listy. Sprawdzamy czy tytuł(wiersz 1) zaczyna się od ask hn czy od show hn. Dodajemy go do konkretnej listy."
      ]
    },
    {
      "cell_type": "code",
      "metadata": {
        "id": "xkacIq_os1NG"
      },
      "source": [
        "ask_posts=[]\n",
        "show_posts=[]\n",
        "other_posts=[]\n",
        "\n",
        "for row in hn:\n",
        "    title=row[1]\n",
        "    title=title.lower()\n",
        "    if title.startswith(\"ask hn\"):\n",
        "      ask_posts.append(row)\n",
        "    elif title.startswith(\"show hn\"):\n",
        "      show_posts.append(row)\n",
        "    else:\n",
        "      other_posts.append(row)"
      ],
      "execution_count": null,
      "outputs": []
    },
    {
      "cell_type": "markdown",
      "metadata": {
        "id": "meb67E9Bv-F0"
      },
      "source": [
        "Sprawdzamy długość wszystkich 3 list."
      ]
    },
    {
      "cell_type": "code",
      "metadata": {
        "id": "U-9e6ck0wCYB",
        "colab": {
          "base_uri": "https://localhost:8080/"
        },
        "outputId": "83454f05-eb32-477e-c43e-5ed84d988f7a"
      },
      "source": [
        "print(\"ask_posts:\", len(ask_posts))\n",
        "print(\"show_posts:\", len(show_posts))\n",
        "print(\"other_posts:\", len(other_posts))"
      ],
      "execution_count": null,
      "outputs": [
        {
          "output_type": "stream",
          "name": "stdout",
          "text": [
            "ask_posts: 1744\n",
            "show_posts: 1162\n",
            "other_posts: 17194\n"
          ]
        }
      ]
    },
    {
      "cell_type": "markdown",
      "metadata": {
        "id": "A8GS5ba2xKmm"
      },
      "source": [
        "Naszym zadaniem jest znalezienie całkowitej liczby komentarzy w postach z pytaniami. W tym celu wykorzystamy pętle for i stworzymy funkcje total_ask_and_show_comments. Wartości dodamy do pustej listy total_comments. Obliczamy ich średnią wykorzystując liczbę wszystkich postów."
      ]
    },
    {
      "cell_type": "code",
      "metadata": {
        "id": "9lPNc6EixUgZ"
      },
      "source": [
        "def total_ask_and_show_comments(posts):\n",
        "  total_comments=0\n",
        "  for row in posts:\n",
        "    comments=int(row[4])\n",
        "    total_comments+=comments\n",
        "  avg_comments=total_comments/len(posts)\n",
        "  print(avg_comments)"
      ],
      "execution_count": null,
      "outputs": []
    },
    {
      "cell_type": "code",
      "metadata": {
        "id": "XeAWM8DVSkdM",
        "colab": {
          "base_uri": "https://localhost:8080/"
        },
        "outputId": "aa34c747-731c-486b-dbfb-2473edeaacae"
      },
      "source": [
        "total_ask_and_show_comments(ask_posts)\n",
        "total_ask_and_show_comments(show_posts)"
      ],
      "execution_count": null,
      "outputs": [
        {
          "output_type": "stream",
          "name": "stdout",
          "text": [
            "14.038417431192661\n",
            "10.31669535283993\n"
          ]
        }
      ]
    },
    {
      "cell_type": "code",
      "metadata": {
        "id": "axtMnJkzU5Og",
        "colab": {
          "base_uri": "https://localhost:8080/",
          "height": 57
        },
        "outputId": "b0b072c1-d003-4b5e-b6f4-709990512a14"
      },
      "source": [
        "%%html\n",
        "<table rules='all'>\n",
        "<tr><td>average_ask_posts</td><td>average_show_posts</td></tr>\n",
        "<tr><td>14.04</td><td>10.32</td></tr>\n",
        "</table>"
      ],
      "execution_count": null,
      "outputs": [
        {
          "output_type": "display_data",
          "data": {
            "text/html": [
              "<table rules='all'>\n",
              "<tr><td>average_ask_posts</td><td>average_show_posts</td></tr>\n",
              "<tr><td>14.04</td><td>10.32</td></tr>\n",
              "</table>"
            ],
            "text/plain": [
              "<IPython.core.display.HTML object>"
            ]
          },
          "metadata": {}
        }
      ]
    },
    {
      "cell_type": "markdown",
      "metadata": {
        "id": "XZ-lfpYmVdH0"
      },
      "source": [
        "Średnio jest więcej postów ask_posts od show_posts."
      ]
    },
    {
      "cell_type": "markdown",
      "metadata": {
        "id": "CVARmnIDWX0m"
      },
      "source": [
        "Importujemy moduł datetime i tworzymy pustą listę result_list który posłuży za listę list. Dołączamy do niej dwa elementy:\n",
        "*   kolumna created_at (musimy pobrać element o indeksie 6 z każdej kolumny)\n",
        "*   liczba komentarzy do danego postu\n"
      ]
    },
    {
      "cell_type": "code",
      "metadata": {
        "id": "hn6aWyGYXpRL"
      },
      "source": [
        "import datetime as dt"
      ],
      "execution_count": null,
      "outputs": []
    },
    {
      "cell_type": "code",
      "metadata": {
        "id": "kH2V4ZUPVsyo"
      },
      "source": [
        "result_list=[]\n",
        "\n",
        "for row in ask_posts:\n",
        "  result_list.append([row[6], int(row[4])])"
      ],
      "execution_count": null,
      "outputs": []
    },
    {
      "cell_type": "code",
      "metadata": {
        "id": "oaN7SFXxXymg",
        "colab": {
          "base_uri": "https://localhost:8080/"
        },
        "outputId": "5d585b86-13bd-4ef0-aeba-451830005fcd"
      },
      "source": [
        "result_list[:5]"
      ],
      "execution_count": null,
      "outputs": [
        {
          "output_type": "execute_result",
          "data": {
            "text/plain": [
              "[['8/16/2016 9:55', 6],\n",
              " ['11/22/2015 13:43', 29],\n",
              " ['5/2/2016 10:14', 1],\n",
              " ['8/2/2016 14:20', 3],\n",
              " ['10/15/2015 16:38', 17]]"
            ]
          },
          "metadata": {},
          "execution_count": 41
        }
      ]
    },
    {
      "cell_type": "markdown",
      "metadata": {
        "id": "9t8AeIXIX7KQ"
      },
      "source": [
        "Tworzymy dwa puste słowniki counts_by_hour oraz comments_by_hour. Przeprowadzamy pętlę przez każdy wiersz result_list i wyodrębniamy datę z godziny(jest pierwszym elementem wiersza). Wykorzystujemy funkcję datetime.strptime(), która przetwarza danę oraz tworzy obiekt datetime. Funkcja datetime.strftime() wybiera samą godzinę z obiektu datetime. Sprawdzamy czy godzina jest w słowniku counts_by_hours. \n",
        "* Jeśli nie ma, to ustawia wartość 1 w counts_by_hour, tworzy wartość w comments_by_hour i ustawia ją równy numerowi komentarza.\n",
        "* Jeśli jest, to zwiększa wartości w counts_by_hour oraz comments_by_hour o numer komentarza.\n"
      ]
    },
    {
      "cell_type": "code",
      "metadata": {
        "id": "ZmxZI9DeYKNw"
      },
      "source": [
        "counts_by_hour = {}\n",
        "comments_by_hour = {}\n",
        "\n",
        "for row in result_list:\n",
        "    date = dt.datetime.strptime(row[0], \"%m/%d/%Y %H:%M\")\n",
        "    hour = dt.datetime.strftime(date, \"%H\")\n",
        "    if hour not in counts_by_hour:\n",
        "        counts_by_hour[hour] = 1\n",
        "        comments_by_hour[hour] = row[1]\n",
        "    else:\n",
        "        counts_by_hour[hour] += 1\n",
        "        comments_by_hour[hour] += row[1]"
      ],
      "execution_count": null,
      "outputs": []
    },
    {
      "cell_type": "markdown",
      "metadata": {
        "id": "LcgonXujezkB"
      },
      "source": [
        "Obliczamy średnią liczbę komentarzy dla postów utworzonych w każdej godzinie dnia. Tworzymy listę, w której pierwszym elementem jest godzina, a drugim średnia liczba komentarzy na post. Robimy iterację po godzinach zamieszonych w comments_by_hour i dodajemy je do avg_by_hours."
      ]
    },
    {
      "cell_type": "code",
      "metadata": {
        "id": "FSZdivDne_Tw",
        "colab": {
          "base_uri": "https://localhost:8080/"
        },
        "outputId": "073be99e-f8b6-4056-f186-d4c7600f2e95"
      },
      "source": [
        "avg_by_hour=[]\n",
        "\n",
        "for hr in comments_by_hour:\n",
        "    avg_by_hour.append([hr, comments_by_hour[hr] / counts_by_hour[hr]])\n",
        "\n",
        "avg_by_hour"
      ],
      "execution_count": null,
      "outputs": [
        {
          "output_type": "execute_result",
          "data": {
            "text/plain": [
              "[['09', 5.5777777777777775],\n",
              " ['13', 14.741176470588234],\n",
              " ['10', 13.440677966101696],\n",
              " ['14', 13.233644859813085],\n",
              " ['16', 16.796296296296298],\n",
              " ['23', 7.985294117647059],\n",
              " ['12', 9.41095890410959],\n",
              " ['17', 11.46],\n",
              " ['15', 38.5948275862069],\n",
              " ['21', 16.009174311926607],\n",
              " ['20', 21.525],\n",
              " ['02', 23.810344827586206],\n",
              " ['18', 13.20183486238532],\n",
              " ['03', 7.796296296296297],\n",
              " ['05', 10.08695652173913],\n",
              " ['19', 10.8],\n",
              " ['01', 11.383333333333333],\n",
              " ['22', 6.746478873239437],\n",
              " ['08', 10.25],\n",
              " ['04', 7.170212765957447],\n",
              " ['00', 8.127272727272727],\n",
              " ['06', 9.022727272727273],\n",
              " ['07', 7.852941176470588],\n",
              " ['11', 11.051724137931034]]"
            ]
          },
          "metadata": {},
          "execution_count": 43
        }
      ]
    },
    {
      "cell_type": "markdown",
      "metadata": {
        "id": "GZIOEJ_9gZ06"
      },
      "source": [
        "Tworzymy pustą listę swap_avg_by_hour, która będzie równa avg_by_hour z zamienionymi kolumnami. Dołączamy do swap_avg_by_hour listę, której pierwszy element jest drugim elementem wiersza, a drugi elementem jest pierwszym elementem wiersza. Następnie sortujemy ją w porządku malejącym."
      ]
    },
    {
      "cell_type": "code",
      "metadata": {
        "id": "njSg34sdgaQn",
        "colab": {
          "base_uri": "https://localhost:8080/"
        },
        "outputId": "3bb3335a-6613-40d2-ca72-2fefb793f7ce"
      },
      "source": [
        "swap_avg_by_hour = []\n",
        "\n",
        "for row in avg_by_hour:\n",
        "    swap_avg_by_hour.append([row[1], row[0]])\n",
        "    \n",
        "print(swap_avg_by_hour)"
      ],
      "execution_count": null,
      "outputs": [
        {
          "output_type": "stream",
          "name": "stdout",
          "text": [
            "[[5.5777777777777775, '09'], [14.741176470588234, '13'], [13.440677966101696, '10'], [13.233644859813085, '14'], [16.796296296296298, '16'], [7.985294117647059, '23'], [9.41095890410959, '12'], [11.46, '17'], [38.5948275862069, '15'], [16.009174311926607, '21'], [21.525, '20'], [23.810344827586206, '02'], [13.20183486238532, '18'], [7.796296296296297, '03'], [10.08695652173913, '05'], [10.8, '19'], [11.383333333333333, '01'], [6.746478873239437, '22'], [10.25, '08'], [7.170212765957447, '04'], [8.127272727272727, '00'], [9.022727272727273, '06'], [7.852941176470588, '07'], [11.051724137931034, '11']]\n"
          ]
        }
      ]
    },
    {
      "cell_type": "code",
      "metadata": {
        "id": "uXosLH9uhG5i",
        "colab": {
          "base_uri": "https://localhost:8080/"
        },
        "outputId": "f0f486e6-9079-4da1-dd82-2f0afbda77eb"
      },
      "source": [
        "sorted_swap = sorted(swap_avg_by_hour, reverse=True)\n",
        "\n",
        "print(sorted_swap)"
      ],
      "execution_count": null,
      "outputs": [
        {
          "output_type": "stream",
          "name": "stdout",
          "text": [
            "[[38.5948275862069, '15'], [23.810344827586206, '02'], [21.525, '20'], [16.796296296296298, '16'], [16.009174311926607, '21'], [14.741176470588234, '13'], [13.440677966101696, '10'], [13.233644859813085, '14'], [13.20183486238532, '18'], [11.46, '17'], [11.383333333333333, '01'], [11.051724137931034, '11'], [10.8, '19'], [10.25, '08'], [10.08695652173913, '05'], [9.41095890410959, '12'], [9.022727272727273, '06'], [8.127272727272727, '00'], [7.985294117647059, '23'], [7.852941176470588, '07'], [7.796296296296297, '03'], [7.170212765957447, '04'], [6.746478873239437, '22'], [5.5777777777777775, '09']]\n"
          ]
        }
      ]
    },
    {
      "cell_type": "markdown",
      "metadata": {
        "id": "BsUe-PS2hWHv"
      },
      "source": [
        "Robimy iterację w sorted_swap. Korzystamy z funkcji str.format(), aby wypisać konkretną godzinę i średnią w odpowiednim formacie. Za pomocą datetime.strptime() zwracamy obiekt datetime i używamy strftime() do określenia formatu czasu. Dzięki {:.2f} wskazujemy tylko dwa miejsca po przecinku."
      ]
    },
    {
      "cell_type": "code",
      "metadata": {
        "id": "WgV68mD7hVg0",
        "colab": {
          "base_uri": "https://localhost:8080/"
        },
        "outputId": "d726cccf-324a-4723-a536-bb6e1ac14131"
      },
      "source": [
        "print(\"Top 5 godzin dla Ask Post Comments\")\n",
        "avg=row[0]\n",
        "\n",
        "for row in sorted_swap:\n",
        "    time = dt.time(hour=int(row[1])).strftime(\"%H:%M\")\n",
        "    print(f\"{time}: {avg} average comments per post\")"
      ],
      "execution_count": null,
      "outputs": [
        {
          "output_type": "stream",
          "name": "stdout",
          "text": [
            "Top 5 godzin dla Ask Post Comments\n",
            "15:00: 11 average comments per post\n",
            "02:00: 11 average comments per post\n",
            "20:00: 11 average comments per post\n",
            "16:00: 11 average comments per post\n",
            "21:00: 11 average comments per post\n",
            "13:00: 11 average comments per post\n",
            "10:00: 11 average comments per post\n",
            "14:00: 11 average comments per post\n",
            "18:00: 11 average comments per post\n",
            "17:00: 11 average comments per post\n",
            "01:00: 11 average comments per post\n",
            "11:00: 11 average comments per post\n",
            "19:00: 11 average comments per post\n",
            "08:00: 11 average comments per post\n",
            "05:00: 11 average comments per post\n",
            "12:00: 11 average comments per post\n",
            "06:00: 11 average comments per post\n",
            "00:00: 11 average comments per post\n",
            "23:00: 11 average comments per post\n",
            "07:00: 11 average comments per post\n",
            "03:00: 11 average comments per post\n",
            "04:00: 11 average comments per post\n",
            "22:00: 11 average comments per post\n",
            "09:00: 11 average comments per post\n"
          ]
        }
      ]
    },
    {
      "cell_type": "markdown",
      "metadata": {
        "id": "D4Qn5qNHBW9o"
      },
      "source": [
        "*Podsumowanie* Wyniki w zbiorze danym są przedstawione dla czasu Eastern Time w USA. Przepisując ją na polskie godziny, musimy dodać 6 godzin do przodu. Wówczas top 3 najkorzystniejszych godzin wygląda następująco:"
      ]
    },
    {
      "cell_type": "code",
      "metadata": {
        "id": "RVNa1465EJp8",
        "colab": {
          "base_uri": "https://localhost:8080/",
          "height": 110
        },
        "outputId": "b30dc80b-965c-4fe6-a0a9-050c6fbc4507"
      },
      "source": [
        "%%html\n",
        "<style> td, th { border: 1px solid black; } </style>\n",
        "\n",
        "<table>\n",
        "   <thead>\n",
        "      <tr> <th> Godzina <th>Średnia liczba komentarzy\n",
        "   <tbody>\n",
        "      <tr> <th> 21:00 <td>38.59 \n",
        "      <tr> <th> 8:00 <td>23.81 \n",
        "      <tr> <th> 2:00   <td> 21.52\n",
        "</table>"
      ],
      "execution_count": null,
      "outputs": [
        {
          "output_type": "display_data",
          "data": {
            "text/html": [
              "<style> td, th { border: 1px solid black; } </style>\n",
              "\n",
              "<table>\n",
              "   <thead>\n",
              "      <tr> <th> Godzina <th>Średnia liczba komentarzy\n",
              "   <tbody>\n",
              "      <tr> <th> 21:00 <td>38.59 \n",
              "      <tr> <th> 8:00 <td>23.81 \n",
              "      <tr> <th> 2:00   <td> 21.52\n",
              "</table>"
            ],
            "text/plain": [
              "<IPython.core.display.HTML object>"
            ]
          },
          "metadata": {}
        }
      ]
    }
  ]
}